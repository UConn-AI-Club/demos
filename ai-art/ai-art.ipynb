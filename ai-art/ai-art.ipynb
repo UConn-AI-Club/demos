{
  "cells": [
    {
      "cell_type": "code",
      "execution_count": null,
      "metadata": {
        "id": "vHqLWeindpRy"
      },
      "outputs": [],
      "source": [
        "%pip install big-sleep -Uqq\n",
        "from big_sleep import Imagine"
      ]
    },
    {
      "cell_type": "code",
      "source": [
        "prompt = \"Fire in the sky\""
      ],
      "metadata": {
        "id": "zBwPeatWd2ph"
      },
      "execution_count": null,
      "outputs": []
    },
    {
      "cell_type": "code",
      "execution_count": null,
      "metadata": {
        "id": "kAM3qJYYdpR6"
      },
      "outputs": [],
      "source": [
        "dream = Imagine(\n",
        "    text=prompt,\n",
        "    lr=5e-2,\n",
        "    save_every=50,\n",
        "    save_progress=True,\n",
        "    image_size=256,\n",
        "    seed=1471,\n",
        ")\n",
        "dream()"
      ]
    },
    {
      "cell_type": "code",
      "source": [
        "from IPython.display import Image \n",
        "file_path = prompt.replace(\" \", \"_\")\n",
        "Image(filename=f\"{file_path}.png\")"
      ],
      "metadata": {
        "id": "o5gYb6eEeMad"
      },
      "execution_count": null,
      "outputs": []
    }
  ],
  "metadata": {
    "interpreter": {
      "hash": "54fc0f476c3bd6d953df4e24b7db2def60f00b279b6749a84fafd73f089ab4b1"
    },
    "kernelspec": {
      "display_name": "Python 3.9.7 ('ai-art-gDX2uJjF')",
      "language": "python",
      "name": "python3"
    },
    "language_info": {
      "codemirror_mode": {
        "name": "ipython",
        "version": 3
      },
      "file_extension": ".py",
      "mimetype": "text/x-python",
      "name": "python",
      "nbconvert_exporter": "python",
      "pygments_lexer": "ipython3",
      "version": "3.9.7"
    },
    "orig_nbformat": 4,
    "colab": {
      "name": "ai-art.ipynb",
      "provenance": []
    },
    "accelerator": "GPU"
  },
  "nbformat": 4,
  "nbformat_minor": 0
}